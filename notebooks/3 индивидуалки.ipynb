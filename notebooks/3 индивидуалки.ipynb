{
 "cells": [
  {
   "cell_type": "code",
   "execution_count": 1,
   "id": "b3bf7b6f-fe86-4bbf-98ba-5341cb41ed07",
   "metadata": {},
   "outputs": [
    {
     "name": "stdout",
     "output_type": "stream",
     "text": [
      "Значение интеграла: -8.133333333333333\n",
      "Оценка погрешности: 9.089316508790763e-14\n"
     ]
    }
   ],
   "source": [
    "import numpy as np\n",
    "from scipy import integrate\n",
    "\n",
    "# 1. Определение функции:\n",
    "def f(x):\n",
    "    \"\"\"Вычисляет значение функции f(x) = 3x^4 - 2x^3 + x^2 - 5\"\"\"\n",
    "    return 3*x**4 - 2*x**3 + x**2 - 5\n",
    "\n",
    "# 2. Вычисление интеграла:\n",
    "a = -1   # Нижний предел интегрирования\n",
    "b = 1    # Верхний предел интегрирования\n",
    "\n",
    "# Используем функцию quad из scipy.integrate:\n",
    "result = integrate.quad(f, a, b)\n",
    "\n",
    "# 3. Вывод результата:\n",
    "print(\"Значение интеграла:\", result[0])\n",
    "\n",
    "# 4. Вывод ошибки (опционально):\n",
    "print(\"Оценка погрешности:\", result[1])\n"
   ]
  },
  {
   "cell_type": "code",
   "execution_count": null,
   "id": "41fc8cc0-e861-4ea6-9cdf-806bce1a2b09",
   "metadata": {},
   "outputs": [],
   "source": []
  }
 ],
 "metadata": {
  "kernelspec": {
   "display_name": "Python [conda env:base] *",
   "language": "python",
   "name": "conda-base-py"
  },
  "language_info": {
   "codemirror_mode": {
    "name": "ipython",
    "version": 3
   },
   "file_extension": ".py",
   "mimetype": "text/x-python",
   "name": "python",
   "nbconvert_exporter": "python",
   "pygments_lexer": "ipython3",
   "version": "3.12.7"
  }
 },
 "nbformat": 4,
 "nbformat_minor": 5
}
